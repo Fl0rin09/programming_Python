{
  "nbformat": 4,
  "nbformat_minor": 0,
  "metadata": {
    "colab": {
      "provenance": [],
      "authorship_tag": "ABX9TyNq618HFGPN5wBE5IFdv6Rf",
      "include_colab_link": true
    },
    "kernelspec": {
      "name": "python3",
      "display_name": "Python 3"
    },
    "language_info": {
      "name": "python"
    }
  },
  "cells": [
    {
      "cell_type": "markdown",
      "metadata": {
        "id": "view-in-github",
        "colab_type": "text"
      },
      "source": [
        "<a href=\"https://colab.research.google.com/github/Fl0rin09/programming--codes-python-/blob/recursion/Recursion.ipynb\" target=\"_parent\"><img src=\"https://colab.research.google.com/assets/colab-badge.svg\" alt=\"Open In Colab\"/></a>"
      ]
    },
    {
      "cell_type": "code",
      "execution_count": null,
      "metadata": {
        "colab": {
          "base_uri": "https://localhost:8080/"
        },
        "id": "9wWAqZxaZ7KQ",
        "outputId": "96cbedf3-93c2-4622-d5c9-25a9d34d6f23"
      },
      "outputs": [
        {
          "output_type": "stream",
          "name": "stdout",
          "text": [
            "9\n"
          ]
        }
      ],
      "source": [
        "#1recursion sum\n",
        "def sumDigits(n):\n",
        "\n",
        "  if n==0:\n",
        "    return 0\n",
        "  else:\n",
        "    return n%10 + sumDigits(n//10)\n",
        "print(sumDigits(126))"
      ]
    },
    {
      "cell_type": "code",
      "source": [
        "def bunnyEars2(n):\n",
        "  ear=0\n",
        "  if n==0:\n",
        "    return ear\n",
        "  if n%2==0:\n",
        "    ear+=3\n",
        "  else:\n",
        "   ear+=2\n",
        "  return ear+bunnyEars2(n-1)\n",
        "print(bunnyEars2(2))"
      ],
      "metadata": {
        "colab": {
          "base_uri": "https://localhost:8080/"
        },
        "id": "OhP7o130fIr9",
        "outputId": "bc672812-6319-4408-a0a2-56f9d80e0ffc"
      },
      "execution_count": null,
      "outputs": [
        {
          "output_type": "stream",
          "name": "stdout",
          "text": [
            "5\n"
          ]
        }
      ]
    },
    {
      "cell_type": "code",
      "source": [
        "def count7(n):\n",
        "  count=0\n",
        "  if n==0:\n",
        "    return 0\n",
        "  if n%10==7:\n",
        "    count+=1\n",
        "  return count+count7(n//10)\n",
        "\n",
        "print(count7(717))"
      ],
      "metadata": {
        "colab": {
          "base_uri": "https://localhost:8080/"
        },
        "id": "mic7x31XmoEc",
        "outputId": "a3cf54d3-f816-4c12-a28f-28b2b65ad946"
      },
      "execution_count": null,
      "outputs": [
        {
          "output_type": "stream",
          "name": "stdout",
          "text": [
            "2\n"
          ]
        }
      ]
    },
    {
      "cell_type": "code",
      "source": [
        "def count7(n):\n",
        "\n",
        "  if n==0:\n",
        "    return 0\n",
        "  if n%10==7:\n",
        "    return 1 + count7(n//10)\n",
        "  else:\n",
        "    return count7(n//10)\n",
        "\n",
        "print(count7(717))"
      ],
      "metadata": {
        "colab": {
          "base_uri": "https://localhost:8080/"
        },
        "id": "h0h8Rbguy0Qa",
        "outputId": "209fce85-95b5-44d7-e800-e3bc12c8371a"
      },
      "execution_count": null,
      "outputs": [
        {
          "output_type": "stream",
          "name": "stdout",
          "text": [
            "2\n"
          ]
        }
      ]
    },
    {
      "cell_type": "code",
      "source": [
        "def countX(s,i):\n",
        "  count=0\n",
        "  if len(s)==0:\n",
        "    return 0\n",
        "  if i==len(s):\n",
        "    return count\n",
        "  else:\n",
        "    if s[i]==\"x\":\n",
        "      count+=1\n",
        "  return count+countX(s,i+1)\n",
        "\n",
        "print(countX(\"xxhixx\",0))"
      ],
      "metadata": {
        "colab": {
          "base_uri": "https://localhost:8080/"
        },
        "id": "0_hUpw0Znzkj",
        "outputId": "4ff217b6-0bde-4f99-dc27-e0cd43795af5"
      },
      "execution_count": null,
      "outputs": [
        {
          "output_type": "stream",
          "name": "stdout",
          "text": [
            "4\n"
          ]
        }
      ]
    },
    {
      "cell_type": "code",
      "source": [
        "def countX(s):\n",
        "\n",
        "    if len(s) == 0:\n",
        "        return 0\n",
        "    else:\n",
        "        if s[0] == 'x':\n",
        "          return 1 + countX(s[1:])\n",
        "        else:\n",
        "          return countX(s[1:])  # ei condition na dile \"hi\" er belay \"none\" return korbe tokhon (7) '1+None' hoiye jabe\n",
        "print(countX(\"xxhixx\"))"
      ],
      "metadata": {
        "colab": {
          "base_uri": "https://localhost:8080/"
        },
        "id": "uin3AvDLlZfV",
        "outputId": "8ba8f3cd-cdca-471d-f640-e9e9fb63d3bc"
      },
      "execution_count": null,
      "outputs": [
        {
          "output_type": "stream",
          "name": "stdout",
          "text": [
            "4\n"
          ]
        }
      ]
    },
    {
      "cell_type": "code",
      "source": [
        "def countX(s):\n",
        "  if len(s)!=0:\n",
        "    print(s)\n",
        "    countX(s[1:])\n",
        "print(countX(\"xxhixx\"))"
      ],
      "metadata": {
        "colab": {
          "base_uri": "https://localhost:8080/"
        },
        "id": "kugeOs_Am_Cn",
        "outputId": "35e8b899-94dc-4b82-a5db-71950ae9fc76"
      },
      "execution_count": null,
      "outputs": [
        {
          "output_type": "stream",
          "name": "stdout",
          "text": [
            "xxhixx\n",
            "xhixx\n",
            "hixx\n",
            "ixx\n",
            "xx\n",
            "x\n",
            "None\n"
          ]
        }
      ]
    },
    {
      "cell_type": "code",
      "source": [
        "def countX(s):\n",
        "  if len(s)!=0:\n",
        "    countX(s[1:])\n",
        "    print(s)\n",
        "print(countX(\"xxhixx\"))"
      ],
      "metadata": {
        "colab": {
          "base_uri": "https://localhost:8080/"
        },
        "id": "cegQngsnnln3",
        "outputId": "40a202f2-f0a1-415e-a091-b800da3a6bbc"
      },
      "execution_count": null,
      "outputs": [
        {
          "output_type": "stream",
          "name": "stdout",
          "text": [
            "x\n",
            "xx\n",
            "ixx\n",
            "hixx\n",
            "xhixx\n",
            "xxhixx\n",
            "None\n"
          ]
        }
      ]
    },
    {
      "cell_type": "code",
      "source": [
        "def countX(s):\n",
        "  if len(s)==0:\n",
        "    return\n",
        "  else:\n",
        "    countX(s[1:])\n",
        "    print(s)\n",
        "print(countX(\"xxhixx\"))"
      ],
      "metadata": {
        "colab": {
          "base_uri": "https://localhost:8080/"
        },
        "id": "iG2O6O7M1__t",
        "outputId": "33bfa636-0488-4bfe-9e60-567b135a0dcc"
      },
      "execution_count": null,
      "outputs": [
        {
          "output_type": "stream",
          "name": "stdout",
          "text": [
            "x\n",
            "xx\n",
            "ixx\n",
            "hixx\n",
            "xhixx\n",
            "xxhixx\n",
            "None\n"
          ]
        }
      ]
    },
    {
      "cell_type": "code",
      "source": [
        "def pairStar(a):\n",
        "\n",
        "  if(len(a)== 1):\n",
        "    return a[:]\n",
        "\n",
        "  else:\n",
        "    x = pairStar(a[1:])\n",
        "    if(a[0] == x[0]):\n",
        "      return a[0] + \"*\" + x\n",
        "    else:\n",
        "      return a[0] + x\n",
        "\n",
        "\n",
        "a = \"hello\"\n",
        "result=pairStar(a)\n",
        "print(result)"
      ],
      "metadata": {
        "id": "7e8BHBlNydNF",
        "colab": {
          "base_uri": "https://localhost:8080/"
        },
        "outputId": "520447b1-2869-461f-8de3-cd25c179cdda"
      },
      "execution_count": null,
      "outputs": [
        {
          "output_type": "stream",
          "name": "stdout",
          "text": [
            "hel*lo\n"
          ]
        }
      ]
    },
    {
      "cell_type": "code",
      "source": [
        "def pairStar(a):\n",
        "\n",
        "  if(len(a)== 1):\n",
        "    return a[:]\n",
        "  else:\n",
        "    x = pairStar(a[1:])\n",
        "    return a[0] + \"*\" + x\n",
        "\n",
        "a = \"hello\"\n",
        "result=pairStar(a)\n",
        "print(result)"
      ],
      "metadata": {
        "colab": {
          "base_uri": "https://localhost:8080/"
        },
        "id": "CGPyCjdSawr_",
        "outputId": "37ff7f04-4c19-47fb-9b4c-b33f1ce052bd"
      },
      "execution_count": null,
      "outputs": [
        {
          "output_type": "stream",
          "name": "stdout",
          "text": [
            "h*e*l*l*o\n"
          ]
        }
      ]
    },
    {
      "cell_type": "code",
      "source": [
        "def flattenList(given_list, output_list):\n",
        "    for item in given_list:\n",
        "        if isinstance(item, list):\n",
        "            flattenList(item, output_list)  # Recursively call flattenList for nested lists\n",
        "        else:\n",
        "            output_list.append(item)  # Append non-list items to the output_list\n",
        "    return output_list\n",
        "\n",
        "given_list= [1, [2, [3, [4], 5], 6], 7, 8, [9, [[10, 11], 12], 13], 14, [15, [16, [17]]]]\n",
        "output_list = flattenList(given_list, [])\n",
        "print(output_list)"
      ],
      "metadata": {
        "id": "8cE05miq8_55",
        "outputId": "8b9a2a21-039e-4b78-dbf1-6b4ff31acc39",
        "colab": {
          "base_uri": "https://localhost:8080/"
        }
      },
      "execution_count": null,
      "outputs": [
        {
          "output_type": "stream",
          "name": "stdout",
          "text": [
            "[1, 2, 3, 4, 5, 6, 7, 8, 9, 10, 11, 12, 13, 14, 15, 16, 17]\n"
          ]
        }
      ]
    },
    {
      "cell_type": "code",
      "source": [
        "def print_start(n):\n",
        "  if n==0:\n",
        "    return\n",
        "  else:\n",
        "    print(\"*\"*n,end=\"\")\n",
        "    print()\n",
        "    return print_start(n-1)\n",
        "a=print_start(5)\n",
        "# print(a)"
      ],
      "metadata": {
        "colab": {
          "base_uri": "https://localhost:8080/"
        },
        "id": "Nmhw2vIS_cWw",
        "outputId": "c5bc22b2-e96b-452e-bce8-410deb4f63df"
      },
      "execution_count": null,
      "outputs": [
        {
          "output_type": "stream",
          "name": "stdout",
          "text": [
            "*****\n",
            "****\n",
            "***\n",
            "**\n",
            "*\n"
          ]
        }
      ]
    },
    {
      "cell_type": "code",
      "source": [
        "def print_start(n):\n",
        "  if n==0:\n",
        "    return\n",
        "  else:\n",
        "    print_start(n-1)\n",
        "    print(\"*\"*n,end='')\n",
        "    print()\n",
        "\n",
        "a=print_start(5)\n",
        "# print(a)"
      ],
      "metadata": {
        "colab": {
          "base_uri": "https://localhost:8080/"
        },
        "id": "fuhAFXtpBmAE",
        "outputId": "5cb04098-22c7-4f0d-9556-0a5d27264574"
      },
      "execution_count": null,
      "outputs": [
        {
          "output_type": "stream",
          "name": "stdout",
          "text": [
            "*\n",
            "**\n",
            "***\n",
            "****\n",
            "*****\n"
          ]
        }
      ]
    },
    {
      "cell_type": "code",
      "source": [
        "def print_pattern(n,i=1,j=1):\n",
        "    if i > n:\n",
        "        return\n",
        "    if j <= i:\n",
        "        print(j, end=\" \")\n",
        "        print_pattern(n, i, j + 1)\n",
        "    else:\n",
        "        print()\n",
        "        print_pattern(n, i + 1, 1)\n",
        "\n",
        "#1\n",
        "print('========1========')\n",
        "n = 5\n",
        "print_pattern(n)\n",
        "print('========1========')\n",
        "n = 7\n",
        "print_pattern(n)"
      ],
      "metadata": {
        "colab": {
          "base_uri": "https://localhost:8080/"
        },
        "id": "69LCc-5btXJe",
        "outputId": "54182da5-deb4-4ddd-8bf0-5a490106dd00"
      },
      "execution_count": null,
      "outputs": [
        {
          "output_type": "stream",
          "name": "stdout",
          "text": [
            "========1========\n",
            "1 \n",
            "1 2 \n",
            "1 2 3 \n",
            "1 2 3 4 \n",
            "1 2 3 4 5 \n",
            "========1========\n",
            "1 \n",
            "1 2 \n",
            "1 2 3 \n",
            "1 2 3 4 \n",
            "1 2 3 4 5 \n",
            "1 2 3 4 5 6 \n",
            "1 2 3 4 5 6 7 \n"
          ]
        }
      ]
    },
    {
      "cell_type": "code",
      "source": [
        "def with_space(start, end, y):\n",
        "  if(start >= end):\n",
        "    return \"\"\n",
        "  print(start,end = \" \")\n",
        "  with_space(start+1*y, end, y)\n",
        "\n",
        "def print_pattern_2(n, x = 1, y = 1):\n",
        "  if(n == 0):\n",
        "    return \"\"\n",
        "  with_space(1*x, n*y+x, y)\n",
        "  print()\n",
        "  print_pattern_2(n-1, x+2, y*2)\n",
        "\n",
        "\n",
        "print('========1========')\n",
        "n = 5\n",
        "print_pattern_2(n)\n",
        "print('========2========')\n",
        "n = 7\n",
        "print_pattern_2(n)\n"
      ],
      "metadata": {
        "id": "OiXK7PU_gamM",
        "outputId": "8125fc58-2a08-40bb-fe9d-3a78a16fffeb",
        "colab": {
          "base_uri": "https://localhost:8080/"
        }
      },
      "execution_count": null,
      "outputs": [
        {
          "output_type": "stream",
          "name": "stdout",
          "text": [
            "========1========\n",
            "1 2 3 4 5 \n",
            "3 5 7 9 \n",
            "5 9 13 \n",
            "7 15 \n",
            "9 \n",
            "========2========\n",
            "1 2 3 4 5 6 7 \n",
            "3 5 7 9 11 13 \n",
            "5 9 13 17 21 \n",
            "7 15 23 31 \n",
            "9 25 41 \n",
            "11 43 \n",
            "13 \n"
          ]
        }
      ]
    },
    {
      "cell_type": "code",
      "source": [
        "#8\n",
        "def countAbc(a):\n",
        "  if len(a)<3:\n",
        "    return 0\n",
        "  elif a[:3]==\"abc\" or a[:3]==\"aba\":\n",
        "    return 1 + countAbc(a[1:])\n",
        "  else:\n",
        "    return countAbc(a[1:])\n",
        "countAbc(\"abcxxaba\")"
      ],
      "metadata": {
        "id": "8I1hjHw0ga4P",
        "colab": {
          "base_uri": "https://localhost:8080/"
        },
        "outputId": "852d1d88-d45e-4caa-c322-19f8f9244a90"
      },
      "execution_count": null,
      "outputs": [
        {
          "output_type": "execute_result",
          "data": {
            "text/plain": [
              "2"
            ]
          },
          "metadata": {},
          "execution_count": 17
        }
      ]
    },
    {
      "cell_type": "code",
      "source": [
        "#9\n",
        "def countHi2(a):\n",
        "  if len(a)==0:\n",
        "    return 0\n",
        "  if a[:3]==\"xhi\":\n",
        "    return countHi2(a[3:])\n",
        "  if a[:2]==\"hi\":\n",
        "    return 1+ countHi2(a[2:])\n",
        "  else:\n",
        "    return countHi2(a[1:])\n",
        "print(countHi2(\"ahixhi\"))\n",
        "print(countHi2(\"ahibhi\"))\n",
        "\n"
      ],
      "metadata": {
        "id": "dCCntCobga7o",
        "colab": {
          "base_uri": "https://localhost:8080/"
        },
        "outputId": "4ee4f0b1-8028-4434-c693-c40080c0dbf7"
      },
      "execution_count": null,
      "outputs": [
        {
          "output_type": "stream",
          "name": "stdout",
          "text": [
            "1\n",
            "2\n"
          ]
        }
      ]
    },
    {
      "cell_type": "code",
      "source": [
        "#10\n",
        "def strCount(string,sub):\n",
        "  if len(string)< len(sub):\n",
        "    return 0\n",
        "  if string[:len(sub)]==sub:\n",
        "    return 1 + strCount(string[len(sub):],sub)\n",
        "  else:\n",
        "     return strCount(string[1:],sub)\n",
        "a=strCount(\"catcowcat\", \"cat\")\n",
        "print(a)"
      ],
      "metadata": {
        "id": "_2Q1vAtnga9E",
        "colab": {
          "base_uri": "https://localhost:8080/"
        },
        "outputId": "e475da7d-0c89-40d4-b818-da27716830bb"
      },
      "execution_count": null,
      "outputs": [
        {
          "output_type": "stream",
          "name": "stdout",
          "text": [
            "2\n"
          ]
        }
      ]
    },
    {
      "cell_type": "code",
      "source": [
        "#11\n",
        "def bunnyEars(n):\n",
        "  if n ==0:\n",
        "    return 0\n",
        "  else:\n",
        "    return 2 + bunnyEars(n-1)\n",
        "\n",
        "print(bunnyEars(1))\n",
        "print(bunnyEars(2))"
      ],
      "metadata": {
        "id": "UWteMHN_gbAD",
        "colab": {
          "base_uri": "https://localhost:8080/"
        },
        "outputId": "98a6d5f2-c7d5-4320-b0c3-c388ed25846a"
      },
      "execution_count": null,
      "outputs": [
        {
          "output_type": "stream",
          "name": "stdout",
          "text": [
            "2\n",
            "4\n"
          ]
        }
      ]
    },
    {
      "cell_type": "code",
      "source": [
        "def triangle(row):\n",
        "  if row<=0:\n",
        "    return 0\n",
        "  else:\n",
        "    return row+ triangle(row-1)\n",
        "print(triangle(1))\n",
        "print(triangle(2))"
      ],
      "metadata": {
        "id": "e4KVvIQygbDr",
        "colab": {
          "base_uri": "https://localhost:8080/"
        },
        "outputId": "33069999-1819-4381-f40f-74155d7091cc"
      },
      "execution_count": null,
      "outputs": [
        {
          "output_type": "stream",
          "name": "stdout",
          "text": [
            "1\n",
            "3\n"
          ]
        }
      ]
    },
    {
      "cell_type": "code",
      "source": [
        "#13\n",
        "def noX (n):\n",
        "  if len(n)==0:\n",
        "    return \"\"\n",
        "  if n[0]==\"x\":\n",
        "    return noX(n[1:])\n",
        "  else:\n",
        "    return n[0] + noX(n[1:])\n",
        "\n",
        "print(noX(\"xaxb\"))\n",
        "print(noX(\"abc\"))\n",
        "print(noX(\"xx\"))"
      ],
      "metadata": {
        "colab": {
          "base_uri": "https://localhost:8080/"
        },
        "id": "6NUU1QmZd_Tr",
        "outputId": "266a7ca2-c6b4-47af-ef62-223a53b39b94"
      },
      "execution_count": null,
      "outputs": [
        {
          "output_type": "stream",
          "name": "stdout",
          "text": [
            "ab\n",
            "abc\n",
            "\n"
          ]
        }
      ]
    },
    {
      "cell_type": "code",
      "source": [
        "#15\n",
        "def endX (n,strx=\"\",notx=\"\"):\n",
        "  if len(n)==0:\n",
        "    return \"\"\n",
        "  if n[0]==\"x\":\n",
        "    # strx+=n[0]\n",
        "    return endX(n[1:])+n[0]\n",
        "  else:\n",
        "    #notx+=n[0]\n",
        "    return n[0]+endX(n[1:])\n",
        "\n",
        "\n",
        "print(endX(\"xxre\"))"
      ],
      "metadata": {
        "colab": {
          "base_uri": "https://localhost:8080/"
        },
        "id": "XcJGKFs8f3Lv",
        "outputId": "dbdf1dba-726f-4c9c-af91-759da0ef0805"
      },
      "execution_count": null,
      "outputs": [
        {
          "output_type": "stream",
          "name": "stdout",
          "text": [
            "rexx\n"
          ]
        }
      ]
    },
    {
      "cell_type": "code",
      "source": [
        "#17     FRF er code\n",
        "def parenBit(n):\n",
        "  if n[0]==\"(\" and n[len(n)-1]==\")\":\n",
        "   return n\n",
        "  elif n[0]==\"(\" and n[len(n)-1]!=\")\":\n",
        "    return parenBit(n[:len(n)-1])\n",
        "  elif n[0]!=\"(\" and n[len(n)-1]==\")\":\n",
        "    return parenBit(n[1:])\n",
        "  return parenBit(n[1:len(n)-1])\n",
        "print(parenBit(\"xefr(hello)x\"))"
      ],
      "metadata": {
        "colab": {
          "base_uri": "https://localhost:8080/"
        },
        "id": "NbOslYAST-HA",
        "outputId": "e10b6d5b-97a3-45ec-ecf9-914fb44628f0"
      },
      "execution_count": null,
      "outputs": [
        {
          "output_type": "stream",
          "name": "stdout",
          "text": [
            "(hello)\n"
          ]
        }
      ]
    },
    {
      "cell_type": "code",
      "source": [
        "# RHJ er code\n",
        "def parenBit(n):\n",
        "  if n[0]==\"(\" and n[len(n)-1]==\")\":\n",
        "   return n\n",
        "  elif n[0]==\"(\" and n[len(n)-1]!=\")\":\n",
        "    return n[:len(n)-1]\n",
        "  elif n[0]!=\"(\" and n[len(n)-1]==\")\":\n",
        "    return n[1:]\n",
        "  return parenBit(n[1:len(n)-1])\n",
        "print(parenBit(\"xyxxz(abc)123\"))"
      ],
      "metadata": {
        "colab": {
          "base_uri": "https://localhost:8080/"
        },
        "id": "_lULak3iT-eZ",
        "outputId": "ed87a7fd-4c79-4477-bc09-e6974a439771"
      },
      "execution_count": null,
      "outputs": [
        {
          "output_type": "stream",
          "name": "stdout",
          "text": [
            "z(abc)\n"
          ]
        }
      ]
    },
    {
      "cell_type": "markdown",
      "source": [],
      "metadata": {
        "id": "DetCnQ-qnO1w"
      }
    },
    {
      "cell_type": "code",
      "source": [
        "#18\n",
        "def strCount(string,sub,count):\n",
        "  if len(string)< len(sub) and count==0:\n",
        "    return True\n",
        "  if len(string)< len(sub) and count!=0:\n",
        "    return False\n",
        "  if string[:len(sub)]==sub:\n",
        "    return strCount(string[len(sub):],sub,count-1)\n",
        "\n",
        "  else:\n",
        "     return strCount(string[1:],sub,count)\n",
        "\n",
        "a=strCount(\"catcatcatcowcat\", \"cat\",6)\n",
        "print(a)"
      ],
      "metadata": {
        "colab": {
          "base_uri": "https://localhost:8080/"
        },
        "id": "TT1RVJzrT-hj",
        "outputId": "eb014b5b-2867-430a-c483-d9f05fdb0b71"
      },
      "execution_count": null,
      "outputs": [
        {
          "output_type": "stream",
          "name": "stdout",
          "text": [
            "False\n"
          ]
        }
      ]
    },
    {
      "cell_type": "code",
      "source": [
        "def strCount(string,sub):\n",
        "  if len(string)< len(sub):\n",
        "    return 0\n",
        "  if string[:len(sub)]==sub:\n",
        "    return 1 + strCount(string[len(sub):],sub)\n",
        "  else:\n",
        "     return strCount(string[1:],sub)\n",
        "a=strCount(\"catcowcat\", \"cat\")\n",
        "print(a)"
      ],
      "metadata": {
        "colab": {
          "base_uri": "https://localhost:8080/"
        },
        "id": "z9-z3fS3T-ko",
        "outputId": "a0384cf5-1dc5-448c-a71a-f28ab346cbef"
      },
      "execution_count": null,
      "outputs": [
        {
          "output_type": "stream",
          "name": "stdout",
          "text": [
            "2\n"
          ]
        }
      ]
    },
    {
      "cell_type": "code",
      "source": [
        "def changeXY(n):\n",
        "  if len(n)==0:\n",
        "    return \"\"   #or return n [return 0 die int jay, return dile None jay]\n",
        "  if n[0]==\"x\":\n",
        "    return \"y\" + changeXY(n[1:])\n",
        "  else:\n",
        "    return n[0]+changeXY(n[1:])\n",
        "print(changeXY(\"codex\"))"
      ],
      "metadata": {
        "colab": {
          "base_uri": "https://localhost:8080/"
        },
        "id": "iROP7cPFoEpF",
        "outputId": "4a065158-4a04-4b5d-d120-12c294f405e7"
      },
      "execution_count": null,
      "outputs": [
        {
          "output_type": "stream",
          "name": "stdout",
          "text": [
            "codey\n"
          ]
        }
      ]
    },
    {
      "cell_type": "code",
      "source": [
        "def array6(a,idx):\n",
        "  if len(a)==idx:\n",
        "    return False\n",
        "  if a[idx]==6:\n",
        "     return True\n",
        "  else:\n",
        "    return array6(a,idx+1)\n",
        "print(array6([1, 6, 4], 0))\n",
        "print(array6([1, 4], 0))\n",
        "print(array6([6], 0))"
      ],
      "metadata": {
        "colab": {
          "base_uri": "https://localhost:8080/"
        },
        "id": "Ns9R-HbPpstF",
        "outputId": "2911eac2-8f75-4c21-8691-9df081acacd1"
      },
      "execution_count": null,
      "outputs": [
        {
          "output_type": "stream",
          "name": "stdout",
          "text": [
            "True\n",
            "False\n",
            "True\n"
          ]
        }
      ]
    },
    {
      "cell_type": "code",
      "source": [
        "#22\n",
        "def countPairs(n):\n",
        "  if len(n)==0:\n",
        "    return 0\n",
        "  if n[:2]==\"ax\":\n",
        "    return 1 + countPairs(n[2:])\n",
        "  else:\n",
        "    return countPairs(n[1:])\n",
        "print(countPairs(\"axa\"))"
      ],
      "metadata": {
        "colab": {
          "base_uri": "https://localhost:8080/"
        },
        "id": "asUm17aUsn7v",
        "outputId": "33280ea1-0a63-47bb-e418-55ee577dd1a9"
      },
      "execution_count": null,
      "outputs": [
        {
          "output_type": "stream",
          "name": "stdout",
          "text": [
            "1\n"
          ]
        }
      ]
    },
    {
      "cell_type": "code",
      "source": [
        "#23\n",
        "def stringClean(n):\n",
        "  if len(n)==1:\n",
        "    return n[:]\n",
        "  else:\n",
        "    x=stringClean(n[1:])\n",
        "    if n[0]==x[0]:\n",
        "      return x\n",
        "\n",
        "    else:\n",
        "      return n[0]+x\n",
        "print(stringClean(\"yyzzza\"))"
      ],
      "metadata": {
        "colab": {
          "base_uri": "https://localhost:8080/"
        },
        "id": "ooIhXyHYuOTp",
        "outputId": "25a44a36-0f3e-4e72-e722-7446b7239b21"
      },
      "execution_count": null,
      "outputs": [
        {
          "output_type": "stream",
          "name": "stdout",
          "text": [
            "yza\n"
          ]
        }
      ]
    },
    {
      "cell_type": "code",
      "source": [
        "#24\n",
        "def nestParen(n):\n",
        "  if len(n)==0:\n",
        "    return True\n",
        "  if n[0]==\"(\" and n[len(n)-1]==\")\":\n",
        "     return nestParen(n[1:len(n)-1])\n",
        "  else:\n",
        "    return False\n",
        "\n",
        "print(nestParen(\"((()))\"))\n",
        "print(nestParen(\"(((x))\"))"
      ],
      "metadata": {
        "colab": {
          "base_uri": "https://localhost:8080/"
        },
        "id": "3vMETHOo07Pi",
        "outputId": "78dd8435-d961-464b-e210-6487488c9b1e"
      },
      "execution_count": null,
      "outputs": [
        {
          "output_type": "stream",
          "name": "stdout",
          "text": [
            "True\n",
            "False\n"
          ]
        }
      ]
    },
    {
      "cell_type": "code",
      "source": [
        "#25\n",
        "#17     FRF er code\n",
        "def strDist(n,sub):\n",
        "  if n[:len(sub)]==sub and n[len(n)-len(sub):]==sub:\n",
        "   return len(n)\n",
        "  elif n[:len(sub)]==sub and n[len(n)-len(sub):]!=sub:\n",
        "    return strDist(n[:len(n)-1],sub)\n",
        "  elif n[:len(sub)]!=sub and n[len(n)-len(sub):]==sub:\n",
        "    return strDist(n[1:],sub)\n",
        "  return strDist(n[1:len(n)-1],sub)\n",
        "print(strDist(\"cccatcowcatxx\", \"cat\"))\n",
        "print(strDist(\"catcowcat\", \"cow\"))"
      ],
      "metadata": {
        "colab": {
          "base_uri": "https://localhost:8080/"
        },
        "id": "2TIVKzIy2nLK",
        "outputId": "065f8074-60a8-4663-8ef5-6b34747d5a36"
      },
      "execution_count": null,
      "outputs": [
        {
          "output_type": "stream",
          "name": "stdout",
          "text": [
            "9\n",
            "3\n"
          ]
        }
      ]
    }
  ]
}